{
 "cells": [
  {
   "cell_type": "code",
   "execution_count": 1,
   "metadata": {
    "collapsed": false,
    "deletable": true,
    "editable": true
   },
   "outputs": [],
   "source": [
    "from bs4 import BeautifulSoup\n",
    "import requests\n",
    "import json\n",
    "import time\n",
    "import pandas as pd\n"
   ]
  },
  {
   "cell_type": "code",
   "execution_count": 2,
   "metadata": {
    "collapsed": true,
    "deletable": true,
    "editable": true
   },
   "outputs": [],
   "source": [
    "def get_type_code(r):\n",
    "    res = r.content\n",
    "    soup = BeautifulSoup(res, 'html.parser')\n",
    "    typeks = [[x['value'],x.string] for x in soup.select('select[name=\"TYPEK\"] > option')]\n",
    "    codes = [[x['value'],x.string] for x in soup.select('select[name=\"code\"] > option') if x.string]\n",
    "    return typeks, codes"
   ]
  },
  {
   "cell_type": "code",
   "execution_count": 3,
   "metadata": {
    "collapsed": false,
    "deletable": true,
    "editable": true
   },
   "outputs": [],
   "source": [
    "def get_payload(typek, code):\n",
    "    payload = {'encodeURIComponent':'1',\n",
    "          'step':'1',\n",
    "          'firstin':'1',\n",
    "          'TYPEK':typek,\n",
    "          'code':code}\n",
    "    return payload"
   ]
  },
  {
   "cell_type": "code",
   "execution_count": 4,
   "metadata": {
    "collapsed": true,
    "deletable": true,
    "editable": true
   },
   "outputs": [],
   "source": [
    "def get_table(s, url, payload):\n",
    "\n",
    "    # use payload \n",
    "    response = s.post(url,data=payload)\n",
    "    res = response.content\n",
    "    soup = BeautifulSoup(res, 'html.parser')\n",
    "    table = soup.find(id='table01')\n",
    "    return table"
   ]
  },
  {
   "cell_type": "code",
   "execution_count": 5,
   "metadata": {
    "collapsed": false,
    "deletable": true,
    "editable": true
   },
   "outputs": [],
   "source": [
    "def get_df(table):\n",
    "    raws = table.find_all('table')[1].find_all('tr')\n",
    "    # get the header \n",
    "    header = raws[0].find_all('th')\n",
    "    header_of_table = [x.get_text() for x in header]\n",
    "    # get the cell\n",
    "    list_of_talbe=[]\n",
    "    for raw in raws:\n",
    "        r =  [x.get_text() for x in raw.find_all('td')]\n",
    "        if len(r) > 0:\n",
    "            list_of_talbe.append(r)\n",
    "            \n",
    "    df = pd.DataFrame(list_of_talbe,columns=header_of_table)\n",
    "    return df"
   ]
  },
  {
   "cell_type": "code",
   "execution_count": null,
   "metadata": {
    "collapsed": true,
    "deletable": true,
    "editable": true
   },
   "outputs": [],
   "source": []
  },
  {
   "cell_type": "code",
   "execution_count": 24,
   "metadata": {
    "collapsed": false,
    "deletable": true,
    "editable": true
   },
   "outputs": [
    {
     "data": {
      "text/plain": [
       "[['01', '水泥工業'],\n",
       " ['02', '食品工業'],\n",
       " ['03', '塑膠工業'],\n",
       " ['04', '紡織纖維'],\n",
       " ['05', '電機機械'],\n",
       " ['06', '電器電纜'],\n",
       " ['21', '化學工業'],\n",
       " ['22', '生技醫療業'],\n",
       " ['07', '化學生技醫療'],\n",
       " ['08', '玻璃陶瓷'],\n",
       " ['09', '造紙工業'],\n",
       " ['10', '鋼鐵工業'],\n",
       " ['11', '橡膠工業'],\n",
       " ['12', '汽車工業'],\n",
       " ['24', '半導體業'],\n",
       " ['25', '電腦及週邊設備業'],\n",
       " ['26', '光電業'],\n",
       " ['27', '通信網路業'],\n",
       " ['28', '電子零組件業'],\n",
       " ['29', '電子通路業'],\n",
       " ['30', '資訊服務業'],\n",
       " ['31', '其他電子業'],\n",
       " ['13', '電子工業'],\n",
       " ['23', '油電燃氣業'],\n",
       " ['14', '建材營造'],\n",
       " ['15', '航運業'],\n",
       " ['16', '觀光事業'],\n",
       " ['17', '金融保險業'],\n",
       " ['18', '貿易百貨'],\n",
       " ['19', '綜合企業'],\n",
       " ['20', '其他'],\n",
       " ['91', '存託憑證']]"
      ]
     },
     "execution_count": 24,
     "metadata": {},
     "output_type": "execute_result"
    }
   ],
   "source": [
    "# get the session\n",
    "url='http://mops.twse.com.tw/mops/web/t51sb01'\n",
    "s = requests.Session()\n",
    "r = s.get(url)\n",
    "typeks, codes = get_type_code(r)\n",
    "\n",
    "codes"
   ]
  },
  {
   "cell_type": "code",
   "execution_count": 34,
   "metadata": {
    "collapsed": false,
    "deletable": true,
    "editable": true,
    "scrolled": true
   },
   "outputs": [
    {
     "name": "stdout",
     "output_type": "stream",
     "text": [
      "{'encodeURIComponent': '1', 'step': '1', 'firstin': '1', 'TYPEK': 'sii', 'code': '\\x00'}\n"
     ]
    }
   ],
   "source": [
    "#typeks = [[u'sii', u'\\u4e0a\\u5e02']]\n",
    "#codes = [[u'01', u'\\u6c34\\u6ce5\\u5de5\\u696d']]\n",
    "\n",
    "#if r.ok:\n",
    "#        for code in codes: \n",
    "#            try:\n",
    "\n",
    "#Jay - \\0 can list all kind of listed shares. 01-水泥/02-食品/03-塑膠\n",
    "payload = get_payload(typek[0], '\\0')\n",
    "print( payload )\n",
    "table = get_table(s, url, payload)\n",
    "df = get_df(table)\n",
    "df.to_excel('All_Listed_Shares.xlsx')\n",
    "#            except:\n",
    "#                print('%s, %s faild' % (typek[1], code[1]))\n",
    "#            time.sleep(5)\n"
   ]
  },
  {
   "cell_type": "code",
   "execution_count": null,
   "metadata": {
    "collapsed": true
   },
   "outputs": [],
   "source": []
  },
  {
   "cell_type": "code",
   "execution_count": null,
   "metadata": {
    "collapsed": true,
    "deletable": true,
    "editable": true
   },
   "outputs": [],
   "source": []
  }
 ],
 "metadata": {
  "kernelspec": {
   "display_name": "Python 3",
   "language": "python",
   "name": "python3"
  },
  "language_info": {
   "codemirror_mode": {
    "name": "ipython",
    "version": 3
   },
   "file_extension": ".py",
   "mimetype": "text/x-python",
   "name": "python",
   "nbconvert_exporter": "python",
   "pygments_lexer": "ipython3",
   "version": "3.6.0"
  }
 },
 "nbformat": 4,
 "nbformat_minor": 0
}
